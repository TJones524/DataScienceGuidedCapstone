{
 "cells": [
  {
   "cell_type": "markdown",
   "metadata": {},
   "source": [
    "Why aren’t we more profitable?\n",
    "\n",
    "Opex\n",
    "Capex\n",
    "Location\n",
    "Features / Amenities \n",
    "What should we charge tickets? \n",
    "Open more runs / close runs / invest in what we already have?\n"
   ]
  },
  {
   "cell_type": "markdown",
   "metadata": {},
   "source": [
    "Key Findings and Recommendations\n",
    "\n",
    "Current ticket prices are too low\n",
    "\n",
    "Option 1: Close down 4 - 5 runs\n",
    "Option 2: Add another run and increase ticket prices \n",
    "Option 3: Add another run, add snow coverage and increase ticket prices\n"
   ]
  },
  {
   "cell_type": "markdown",
   "metadata": {},
   "source": [
    "Analysis\n",
    "\n",
    "Current Avg ticket price $80        VS  \tExpected Avg ticket price  $108\n",
    "Scenario 1 Test: Close one or multiple runs\n",
    "Scenario 2 Test: Increase vertical drop and add a chair\n",
    "Scenario 3 Test: Increase drop, add chair, add 2 acres of snow\n",
    "Scenario 4 Test: Increase longest run by .2 miles \n"
   ]
  },
  {
   "cell_type": "markdown",
   "metadata": {},
   "source": [
    "Features accounted for\n",
    "\n",
    "Snow coverage\n",
    "Chair distribution\n",
    "Fast quads\n",
    "Runs\n",
    "Longest run\n",
    "Trams\n",
    "Skiable area\n",
    "Total number of chairs\n"
   ]
  },
  {
   "attachments": {},
   "cell_type": "markdown",
   "metadata": {},
   "source": [
    "BM/Montana top 5          \n",
    "Total area\n",
    "Total skiable area\n",
    "Resort density\n"
   ]
  },
  {
   "cell_type": "markdown",
   "metadata": {},
   "source": [
    "Conclusion\n",
    "\n",
    "Updating missing information could affect the analysis\n",
    "We a charging significantly lower than we should\n",
    "There are 3 options to increase value of tickets or decrease operational cost\n"
   ]
  }
 ],
 "metadata": {
  "kernelspec": {
   "display_name": "Python 3",
   "language": "python",
   "name": "python3"
  },
  "language_info": {
   "codemirror_mode": {
    "name": "ipython",
    "version": 3
   },
   "file_extension": ".py",
   "mimetype": "text/x-python",
   "name": "python",
   "nbconvert_exporter": "python",
   "pygments_lexer": "ipython3",
   "version": "3.8.5"
  }
 },
 "nbformat": 4,
 "nbformat_minor": 4
}
